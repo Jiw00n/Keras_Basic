{
 "cells": [
  {
   "cell_type": "code",
   "execution_count": null,
   "id": "808e7aa8",
   "metadata": {},
   "outputs": [],
   "source": [
    "#데이터 셋 로드\n",
    "from tensorflow.keras.datasets import boston_housing\n",
    "from tensorflow.keras import layers\n",
    "import numpy as np\n",
    "\n",
    "(train_data, train_targets), (test_data, test_targets) = boston_housing.load_data()"
   ]
  },
  {
   "cell_type": "code",
   "execution_count": null,
   "id": "f240a3cb",
   "metadata": {},
   "outputs": [],
   "source": [
    "#데이터 정규화 하기\n",
    "mean = train_data.mean(axis = 0)\n",
    "train_data -= mean\n",
    "std = train_data.std(axis = 0)\n",
    "train_data /= std\n",
    "test_data -= mean\n",
    "test_data /= std"
   ]
  },
  {
   "cell_type": "code",
   "execution_count": null,
   "id": "ff275e82",
   "metadata": {},
   "outputs": [],
   "source": [
    "model = keras.Sequential([\n",
    "    layers.Dense(64, activation=\"relu\")\n",
    "    layers.Dense(64, activation = \"relu\")\n",
    "    layers.Dense(1)\n",
    "])\n",
    "\n",
    "model.compile(optimizer = \"rmsprop\", loss=\"mse\", metrics=\"mae\")"
   ]
  },
  {
   "cell_type": "code",
   "execution_count": null,
   "id": "9d085bcb",
   "metadata": {},
   "outputs": [],
   "source": [
    "#k겹\n",
    "\n",
    "k = 4\n",
    "num_val_sample = len(train_data)/k\n",
    "\n",
    "for i in k:\n",
    "    val_data = train_data[i*num_val_sample : (i+1)*num_val_sample]\n",
    "    val_targets = train_targets[i*num_val_sample : (i+1)*num_val_sample]\n",
    "    \n",
    "    partial_train_data = np.concatenate(train_data[:i*num_val_sample], train_data[(i+1)*num_val_sample:])\n",
    "    partial_train_targets = np.concatenate(train_targets[:i*num_val_sample], train_targets[(i+1)*num_val_sample:])\n",
    "    \n",
    "    \n",
    "history = model.fit(partial_train_data, partial_train_targets, epochs = 100, batch_size=16)\n",
    "\n",
    "\n"
   ]
  }
 ],
 "metadata": {
  "kernelspec": {
   "display_name": "Python 3 (ipykernel)",
   "language": "python",
   "name": "python3"
  },
  "language_info": {
   "codemirror_mode": {
    "name": "ipython",
    "version": 3
   },
   "file_extension": ".py",
   "mimetype": "text/x-python",
   "name": "python",
   "nbconvert_exporter": "python",
   "pygments_lexer": "ipython3",
   "version": "3.9.13"
  }
 },
 "nbformat": 4,
 "nbformat_minor": 5
}
