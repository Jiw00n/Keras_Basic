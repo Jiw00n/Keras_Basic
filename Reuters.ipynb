{
 "cells": [
  {
   "cell_type": "code",
   "execution_count": 1,
   "id": "fd5304e1",
   "metadata": {},
   "outputs": [],
   "source": [
    "#로이터 데이터셋 로드\n",
    "from tensorflow import keras\n",
    "from tensorflow.keras import layers\n",
    "from tensorflow.keras.datasets import reuters\n",
    "(train_data, train_labels),(test_data, test_labels) = reuters.load_data(num_words = 10000)"
   ]
  },
  {
   "cell_type": "code",
   "execution_count": 2,
   "id": "4d58e965",
   "metadata": {},
   "outputs": [],
   "source": [
    "#로이터 데이터 셋을 텍스트로 디코딩하기.\n",
    "word_index = reuters.get_word_index()\n",
    "reverse_word_index = dict([(value,key) for (key, value) in word_index.items()])\n",
    "# 0,1,2는 각각 패딩, 문서시작, 사전에 없음을 위해 예약되어있음.\n",
    "decoded_newswire = \" \".join([reverse_word_index.get(i-3, \"?\") for i in train_data[0]])"
   ]
  },
  {
   "cell_type": "code",
   "execution_count": 3,
   "id": "feefb2dd",
   "metadata": {},
   "outputs": [],
   "source": [
    "import numpy as np\n",
    "def vertorize_sequences(sequences, dimension = 10000):\n",
    "    results = np.zeros((len(sequences), dimension))\n",
    "    for i ,sequence in enumerate(sequences):\n",
    "        for j in sequence:\n",
    "            results[i,j] = 1\n",
    "    return results\n",
    "\n",
    "x_train = vertorize_sequences(train_data)\n",
    "x_test = vertorize_sequences(test_data)"
   ]
  },
  {
   "cell_type": "code",
   "execution_count": 4,
   "id": "2ea1322d",
   "metadata": {},
   "outputs": [],
   "source": [
    "from keras.utils.np_utils import to_categorical\n",
    "y_train = to_categorical(train_labels)\n",
    "y_test = to_categorical(test_labels)"
   ]
  },
  {
   "cell_type": "code",
   "execution_count": 9,
   "id": "c86003f4",
   "metadata": {},
   "outputs": [
    {
     "name": "stdout",
     "output_type": "stream",
     "text": [
      "Epoch 1/20\n",
      "16/16 [==============================] - 2s 56ms/step - loss: 2.3666 - accuracy: 0.5312 - val_loss: 1.5024 - val_accuracy: 0.6470\n",
      "Epoch 2/20\n",
      "16/16 [==============================] - 1s 36ms/step - loss: 1.2634 - accuracy: 0.7216 - val_loss: 1.1735 - val_accuracy: 0.7430\n",
      "Epoch 3/20\n",
      "16/16 [==============================] - 1s 35ms/step - loss: 0.9490 - accuracy: 0.7942 - val_loss: 1.0290 - val_accuracy: 0.7790\n",
      "Epoch 4/20\n",
      "16/16 [==============================] - 1s 33ms/step - loss: 0.7519 - accuracy: 0.8330 - val_loss: 0.9635 - val_accuracy: 0.7910\n",
      "Epoch 5/20\n",
      "16/16 [==============================] - 1s 32ms/step - loss: 0.5869 - accuracy: 0.8732 - val_loss: 0.9170 - val_accuracy: 0.8130\n",
      "Epoch 6/20\n",
      "16/16 [==============================] - 1s 32ms/step - loss: 0.4649 - accuracy: 0.9022 - val_loss: 0.8814 - val_accuracy: 0.8080\n",
      "Epoch 7/20\n",
      "16/16 [==============================] - 1s 32ms/step - loss: 0.3703 - accuracy: 0.9211 - val_loss: 0.8533 - val_accuracy: 0.8180\n",
      "Epoch 8/20\n",
      "16/16 [==============================] - 1s 32ms/step - loss: 0.3069 - accuracy: 0.9350 - val_loss: 0.8627 - val_accuracy: 0.8170\n",
      "Epoch 9/20\n",
      "16/16 [==============================] - 1s 32ms/step - loss: 0.2570 - accuracy: 0.9421 - val_loss: 1.0410 - val_accuracy: 0.7720\n",
      "Epoch 10/20\n",
      "16/16 [==============================] - 1s 34ms/step - loss: 0.2276 - accuracy: 0.9439 - val_loss: 0.8987 - val_accuracy: 0.8080\n",
      "Epoch 11/20\n",
      "16/16 [==============================] - 1s 33ms/step - loss: 0.2025 - accuracy: 0.9488 - val_loss: 0.8560 - val_accuracy: 0.8170\n",
      "Epoch 12/20\n",
      "16/16 [==============================] - 1s 32ms/step - loss: 0.1762 - accuracy: 0.9539 - val_loss: 0.9110 - val_accuracy: 0.8060\n",
      "Epoch 13/20\n",
      "16/16 [==============================] - 1s 31ms/step - loss: 0.1672 - accuracy: 0.9535 - val_loss: 0.8994 - val_accuracy: 0.8200\n",
      "Epoch 14/20\n",
      "16/16 [==============================] - 0s 31ms/step - loss: 0.1564 - accuracy: 0.9544 - val_loss: 0.9411 - val_accuracy: 0.8070\n",
      "Epoch 15/20\n",
      "16/16 [==============================] - 1s 31ms/step - loss: 0.1466 - accuracy: 0.9554 - val_loss: 1.0046 - val_accuracy: 0.8020\n",
      "Epoch 16/20\n",
      "16/16 [==============================] - 0s 31ms/step - loss: 0.1377 - accuracy: 0.9557 - val_loss: 0.9443 - val_accuracy: 0.8200\n",
      "Epoch 17/20\n",
      "16/16 [==============================] - 1s 33ms/step - loss: 0.1370 - accuracy: 0.9563 - val_loss: 0.9361 - val_accuracy: 0.8210\n",
      "Epoch 18/20\n",
      "16/16 [==============================] - 1s 35ms/step - loss: 0.1320 - accuracy: 0.9577 - val_loss: 0.9584 - val_accuracy: 0.8030\n",
      "Epoch 19/20\n",
      "16/16 [==============================] - 1s 33ms/step - loss: 0.1243 - accuracy: 0.9555 - val_loss: 1.0192 - val_accuracy: 0.7960\n",
      "Epoch 20/20\n",
      "16/16 [==============================] - 0s 30ms/step - loss: 0.1277 - accuracy: 0.9570 - val_loss: 0.9916 - val_accuracy: 0.8020\n"
     ]
    }
   ],
   "source": [
    "model = keras.Sequential([\n",
    "    layers.Dense(128, activation=\"relu\"),\n",
    "    layers.Dense(128, activation=\"relu\"),\n",
    "    layers.Dense(46, activation=\"softmax\")\n",
    "])\n",
    "\n",
    "model.compile(optimizer = \"rmsprop\", loss=\"categorical_crossentropy\", metrics =\"accuracy\")\n",
    "\n",
    "x_val = x_train[:1000]\n",
    "partial_x_train = x_train[1000:]\n",
    "y_val = y_train[:1000]\n",
    "partial_y_train = y_train[1000:]\n",
    "\n",
    "\n",
    "history = model.fit(partial_x_train, partial_y_train, epochs=20, batch_size=512,\n",
    "                   validation_data=(x_val, y_val))\n"
   ]
  },
  {
   "cell_type": "code",
   "execution_count": 11,
   "id": "e8ccbe4d",
   "metadata": {},
   "outputs": [
    {
     "data": {
      "image/png": "[encoded data removed]",
      "text/plain": [
       "<Figure size 640x480 with 1 Axes>"
      ]
     },
     "metadata": {},
     "output_type": "display_data"
    }
   ],
   "source": [
    "import matplotlib.pyplot as plt\n",
    "\n",
    "loss = history.history['loss']\n",
    "val_loss = history.history['val_loss']\n",
    "epochs = range(1, len(loss)+1)\n",
    "\n",
    "plt.plot(epochs, loss, 'bo', label = 'Training loss')\n",
    "plt.plot(epochs, val_loss, 'b', label = 'Vaildation loss')\n",
    "plt.title('Training and validation loss')\n",
    "plt.xlabel('Epochs')\n",
    "plt.ylabel('Loss')\n",
    "plt.legend()\n",
    "plt.show()"
   ]
  },
  {
   "cell_type": "code",
   "execution_count": null,
   "id": "f9f1e53c",
   "metadata": {},
   "outputs": [],
   "source": []
  }
 ],
 "metadata": {
  "kernelspec": {
   "display_name": "Python 3 (ipykernel)",
   "language": "python",
   "name": "python3"
  },
  "language_info": {
   "codemirror_mode": {
    "name": "ipython",
    "version": 3
   },
   "file_extension": ".py",
   "mimetype": "text/x-python",
   "name": "python",
   "nbconvert_exporter": "python",
   "pygments_lexer": "ipython3",
   "version": "3.9.13"
  }
 },
 "nbformat": 4,
 "nbformat_minor": 5
}
