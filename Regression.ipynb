{
 "cells": [
  {
   "cell_type": "code",
   "execution_count": 32,
   "id": "8e7db7cb",
   "metadata": {},
   "outputs": [],
   "source": [
    "#데이터 셋 로드\n",
    "from tensorflow.keras.datasets import boston_housing\n",
    "from tensorflow.keras import layers\n",
    "(train_data, train_targets), (test_data, test_targets) = (boston_housing.load_data())"
   ]
  },
  {
   "cell_type": "code",
   "execution_count": 33,
   "id": "29cf314e",
   "metadata": {},
   "outputs": [],
   "source": [
    "#데이터 정규화 하기\n",
    "mean = train_data.mean(axis = 0)\n",
    "train_data -= mean\n",
    "std = train_data.std(axis = 0)\n",
    "train_data /= std\n",
    "test_data -= mean\n",
    "test_data /= std"
   ]
  },
  {
   "cell_type": "code",
   "execution_count": 34,
   "id": "319ad100",
   "metadata": {},
   "outputs": [],
   "source": [
    "#모델 정의하기\n",
    "def build_model():\n",
    "    model = keras.Sequential([\n",
    "        layers.Dense(64, activation = \"relu\"),\n",
    "        layers.Dense(64, activation = \"relu\"),\n",
    "        layers.Dense(1)\n",
    "    ])\n",
    "    model.compile(optimizer = \"rmsprop\", loss = \"mse\", metrics = [\"mae\"])\n",
    "    return model"
   ]
  },
  {
   "cell_type": "code",
   "execution_count": 41,
   "id": "26313df5",
   "metadata": {},
   "outputs": [
    {
     "name": "stdout",
     "output_type": "stream",
     "text": [
      "processing fold # 0\n",
      "processing fold # 1\n",
      "processing fold # 2\n"
     ]
    }
   ],
   "source": [
    "import numpy as np\n",
    "\n",
    "k = 4\n",
    "num_val_sample = len(train_data) / k\n",
    "num_epochs = 100\n",
    "all_scores = []\n",
    "\n",
    "for i in range(k):\n",
    "    print('processing fold #', i)\n",
    "\n",
    "    # 검증 데이터\n",
    "    val_data = train_data[i * num_val_sample : (i+1) * num_val_sample]\n",
    "    val_targets = train_targets[i * num_val_sample : (i+1) * num_val_sample]\n",
    "    \n",
    "    # 훈련 데이터 (텐서 두개 이어붙임)\n",
    "    partial_train_data = np.concatenate([train_data[:i * num_val_sample],train_data[(i+1) * num_val_sample:]], axis = 0)\n",
    "    partial_train_targets = np.concatenate([train_targets[:i * num_val_sample],train_targets[(i+1) * num_val_sample:]], axis = 0)\n",
    "\n",
    "    model = build_model()\n",
    "    history = model.fit(partial_train_data, partial_train_targets, epochs = num_epochs, batch_size = 16, verbose = 0)"
   ]
  },
  {
   "cell_type": "code",
   "execution_count": 42,
   "id": "da2ba1aa",
   "metadata": {},
   "outputs": [
    {
     "data": {
      "text/plain": [
       "[2.2937240600585938, 2.3854925632476807, 2.822789192199707]"
      ]
     },
     "execution_count": 42,
     "metadata": {},
     "output_type": "execute_result"
    }
   ],
   "source": [
    "#오차값\n",
    "all_scores "
   ]
  },
  {
   "cell_type": "code",
   "execution_count": 45,
   "id": "780364f3",
   "metadata": {},
   "outputs": [
    {
     "data": {
      "text/plain": [
       "2.5006686051686606"
      ]
     },
     "execution_count": 45,
     "metadata": {},
     "output_type": "execute_result"
    }
   ],
   "source": [
    "#오차값의 평균\n",
    "np.mean(all_scores)"
   ]
  },
  {
   "cell_type": "code",
   "execution_count": 48,
   "id": "224529f4",
   "metadata": {},
   "outputs": [
    {
     "name": "stdout",
     "output_type": "stream",
     "text": [
      "4/4 [==============================] - 0s 1ms/step\n"
     ]
    },
    {
     "data": {
      "text/plain": [
       "array([9.965545], dtype=float32)"
      ]
     },
     "execution_count": 48,
     "metadata": {},
     "output_type": "execute_result"
    }
   ],
   "source": [
    "#0번째 원소 예측 값\n",
    "predictions = model.predict(test_data)\n",
    "predictions[0]"
   ]
  },
  {
   "cell_type": "code",
   "execution_count": null,
   "id": "fa0ed9ed",
   "metadata": {},
   "outputs": [],
   "source": []
  }
 ],
 "metadata": {
  "kernelspec": {
   "display_name": "Python 3 (ipykernel)",
   "language": "python",
   "name": "python3"
  },
  "language_info": {
   "codemirror_mode": {
    "name": "ipython",
    "version": 3
   },
   "file_extension": ".py",
   "mimetype": "text/x-python",
   "name": "python",
   "nbconvert_exporter": "python",
   "pygments_lexer": "ipython3",
   "version": "3.9.13"
  }
 },
 "nbformat": 4,
 "nbformat_minor": 5
}
